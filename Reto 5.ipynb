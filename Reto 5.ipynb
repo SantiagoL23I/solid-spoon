{
 "cells": [
  {
   "cell_type": "code",
   "execution_count": 1,
   "metadata": {},
   "outputs": [
    {
     "name": "stdout",
     "output_type": "stream",
     "text": [
      "el número 103 no corresponde al código ASCII de una vocal minúscula\n"
     ]
    }
   ],
   "source": [
    "n : int = 103\n",
    "if n == 97 or n == 101 or n== 106 or n== 111 or n== 117:\n",
    "  print(\"el número \"+str(n)+\" corresponde al código ASCII de una vocal minúscula\")\n",
    "else:\n",
    "  print(\"el número \"+str(n)+\" no corresponde al código ASCII de una vocal minúscula\")"
   ]
  },
  {
   "cell_type": "code",
   "execution_count": 6,
   "metadata": {},
   "outputs": [
    {
     "name": "stdout",
     "output_type": "stream",
     "text": [
      "El código ASCII de la primera letra de la cadena es par.\n"
     ]
    }
   ],
   "source": [
    "cadena = \"H\"\n",
    "primer_caracter = cadena[0]\n",
    "codigo_ascii = ord(primer_caracter)\n",
    "\n",
    "if codigo_ascii % 2 == 0:\n",
    "    print(\"El código ASCII de la primera letra de la cadena es par.\")\n",
    "else:\n",
    "    print(\"El código ASCII de la primera letra de la cadena es impar.\")\n"
   ]
  },
  {
   "cell_type": "code",
   "execution_count": 10,
   "metadata": {},
   "outputs": [
    {
     "name": "stdout",
     "output_type": "stream",
     "text": [
      "El carácter es un dígito.\n"
     ]
    }
   ],
   "source": [
    "caracter = input(\"Ingrese un carácter: \")\n",
    "if caracter.isdigit():\n",
    "    print(\"El carácter es un dígito.\")\n",
    "else:\n",
    "    print(\"El carácter no es un dígito.\")\n"
   ]
  },
  {
   "cell_type": "code",
   "execution_count": 29,
   "metadata": {},
   "outputs": [
    {
     "name": "stdout",
     "output_type": "stream",
     "text": [
      "El número x es el neutro para la suma\n"
     ]
    }
   ],
   "source": [
    "n:float\n",
    "n=float(input(\"Digite un número\"))\n",
    "if n == 0:\n",
    "    print(\"El número x es el neutro para la suma\")\n",
    "elif n < 0:\n",
    "    print(\"El número x es negativo\")\n",
    "elif n > 0:\n",
    "    print (\"El número x es positivo\")\n"
   ]
  },
  {
   "cell_type": "code",
   "execution_count": 36,
   "metadata": {},
   "outputs": [
    {
     "name": "stdout",
     "output_type": "stream",
     "text": [
      "El punto está fuera del círculo.\n"
     ]
    }
   ],
   "source": [
    "x:float\n",
    "y:float\n",
    "x_c:float\n",
    "y_c:float\n",
    "x = float(input(\"Ingrese la coordenada x \"))\n",
    "y = float(input(\"Ingrese la coordenada y \"))\n",
    "x_c = float(input(\"Ingrese la coordenada x del centro del círculo \"))\n",
    "y_c = float(input(\"Ingrese la coordenada y del centro del círculo \"))\n",
    "radio = float(input(\"Ingrese el radio del círculo: \"))\n",
    "\n",
    "distancia = float((x - x_c)**2 + (y - y_c)**2)\n",
    "\n",
    "if distancia < radio:\n",
    "    print(\"El punto está dentro del círculo.\")\n",
    "else:\n",
    "    print(\"El punto está fuera del círculo.\")\n"
   ]
  },
  {
   "cell_type": "code",
   "execution_count": 37,
   "metadata": {},
   "outputs": [
    {
     "name": "stdout",
     "output_type": "stream",
     "text": [
      "Se puede construir un triángulo\n"
     ]
    }
   ],
   "source": [
    "a:float\n",
    "b:float\n",
    "c:float\n",
    "a = float(input(\"Ingrese la longitud del lado a\"))\n",
    "b = float(input(\"Ingrese la longitud del lado b\"))\n",
    "c = float(input(\"Ingrese la longitud del lado c\"))\n",
    "\n",
    "if a > 0 and b > 0 and c > 0:\n",
    "    if a + b > c and a + c > b and b + c > a:\n",
    "        print(\"Se puede construir un triángulo\")\n",
    "    else:\n",
    "        print(\"No se puede construir un triángulo\")\n",
    "else:\n",
    "    print(\"Las longitudes deben ser positivas.\")\n"
   ]
  }
 ],
 "metadata": {
  "kernelspec": {
   "display_name": "Python 3",
   "language": "python",
   "name": "python3"
  },
  "language_info": {
   "codemirror_mode": {
    "name": "ipython",
    "version": 3
   },
   "file_extension": ".py",
   "mimetype": "text/x-python",
   "name": "python",
   "nbconvert_exporter": "python",
   "pygments_lexer": "ipython3",
   "version": "3.11.2"
  },
  "orig_nbformat": 4,
  "vscode": {
   "interpreter": {
    "hash": "9da8354831a1a76e7385765622e29197f528ad38b7148e1cd7d6cac41aa942b5"
   }
  }
 },
 "nbformat": 4,
 "nbformat_minor": 2
}
